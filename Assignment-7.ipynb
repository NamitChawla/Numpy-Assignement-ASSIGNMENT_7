{
 "cells": [
  {
   "cell_type": "markdown",
   "metadata": {},
   "source": [
    "#### Question: Write a function to find moving average in an array over a window: Test it over [3, 5, 7, 2, 8, 10, 11, 65, 72, 81, 99, 100, 150] and window of 3."
   ]
  },
  {
   "cell_type": "code",
   "execution_count": 72,
   "metadata": {},
   "outputs": [],
   "source": [
    "import numpy as np\n",
    "def movingAverage(arr, window_size):\n",
    "    mov_avg_array = np.copy(arr[0:len(arr)-window_size+1]).astype(\"float\")\n",
    "    count=0\n",
    "    for i in range(len(arr)-window_size+1):\n",
    "        avg = 0.0\n",
    "        for j in range(window_size):\n",
    "            if(j==window_size-1):\n",
    "                avg = (avg + arr[i+j])/3\n",
    "                mov_avg_array[i] = avg\n",
    "                count=count+1\n",
    "                mov_avg_array[i] = avg\n",
    "            else:\n",
    "                avg=  avg + arr[i+j]\n",
    "    return count, mov_avg_array"
   ]
  },
  {
   "cell_type": "code",
   "execution_count": 73,
   "metadata": {},
   "outputs": [
    {
     "name": "stdout",
     "output_type": "stream",
     "text": [
      "Moving average sequence is: 11\n",
      "[  5.           4.66666667   5.66666667   6.66666667   9.66666667\n",
      "  28.66666667  49.33333333  72.66666667  84.          93.33333333\n",
      " 116.33333333]\n"
     ]
    }
   ],
   "source": [
    "arr = np.array([3, 5, 7, 2, 8, 10, 11, 65, 72, 81, 99, 100, 150])\n",
    "window_size = 3\n",
    "count, mov_avg_array=movingAverage(arr, window_size)\n",
    "print(\"Moving average sequence is: \"+str(count))\n",
    "print(mov_avg_array)"
   ]
  },
  {
   "cell_type": "code",
   "execution_count": null,
   "metadata": {},
   "outputs": [],
   "source": []
  }
 ],
 "metadata": {
  "kernelspec": {
   "display_name": "Python 3",
   "language": "python",
   "name": "python3"
  },
  "language_info": {
   "codemirror_mode": {
    "name": "ipython",
    "version": 3
   },
   "file_extension": ".py",
   "mimetype": "text/x-python",
   "name": "python",
   "nbconvert_exporter": "python",
   "pygments_lexer": "ipython3",
   "version": "3.7.1"
  }
 },
 "nbformat": 4,
 "nbformat_minor": 2
}
